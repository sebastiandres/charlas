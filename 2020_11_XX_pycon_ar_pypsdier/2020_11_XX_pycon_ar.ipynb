{
 "cells": [
  {
   "cell_type": "code",
   "execution_count": 3,
   "metadata": {
    "slideshow": {
     "slide_type": "skip"
    }
   },
   "outputs": [
    {
     "data": {
      "text/plain": [
       "{'theme': 'sky',\n",
       " 'transition': 'none',\n",
       " 'start_slideshow_at': 'selected',\n",
       " 'autolaunch': True}"
      ]
     },
     "execution_count": 3,
     "metadata": {},
     "output_type": "execute_result"
    }
   ],
   "source": [
    "#!/usr/bin/env python3\n",
    "from traitlets.config.manager import BaseJSONConfigManager\n",
    "from pathlib import Path\n",
    "path = Path.home() / \".jupyter\" / \"nbconfig\"\n",
    "cm = BaseJSONConfigManager(config_dir=str(path))\n",
    "cm.update(\n",
    "    \"rise\",\n",
    "    {\n",
    "        \"theme\": \"sky\",\n",
    "        \"transition\": \"none\",\n",
    "        \"autolaunch\": True,\n",
    "    }\n",
    ")"
   ]
  },
  {
   "cell_type": "code",
   "execution_count": 2,
   "metadata": {
    "slideshow": {
     "slide_type": "skip"
    }
   },
   "outputs": [],
   "source": [
    "%matplotlib inline"
   ]
  },
  {
   "cell_type": "markdown",
   "metadata": {
    "slideshow": {
     "slide_type": "slide"
    }
   },
   "source": [
    "## Coding as a Service: librería pypsdier, aprendizajes y metodología.\n",
    "### pycon Argentina 2020\n",
    "### Sebastian Flores - Pedro Valencia\n",
    "#### 16 al 27 de Noviembre de 2020"
   ]
  },
  {
   "cell_type": "markdown",
   "metadata": {
    "slideshow": {
     "slide_type": "slide"
    }
   },
   "source": [
    "##### Coding as a Service: librería pypsdier, aprendizajes y metodología.\n",
    "### Observaciones:\n",
    "\n",
    "* sebastiandres en twitter y github.\n",
    "* Opiniones y críticas a título personal.\n",
    "* Presentación realizada con la extensión RISE, fácilmente reproducible.\n",
    "* Presentación disponible en [github.com/sebastiandres/charlas](https://www.github.com/sebastiandres/charlas)\n",
    "\n",
    "**Observación a los \"reviewers\": el video será grabado usando la interactividad de la extensión RISE, además de incluir algunas imágenes adicionales que no he alcanzado a incluir en esta fecha y que harán más entendible la presentación**"
   ]
  },
  {
   "cell_type": "markdown",
   "metadata": {
    "slideshow": {
     "slide_type": "slide"
    }
   },
   "source": [
    "##### Coding as a Service: librería pypsdier, aprendizajes y metodología.\n",
    "### Introducción\n",
    "\n",
    "* ¿Cómo distribuir y documentar un proyecto?\n",
    "* ¿Cómo desarrollar y mantener código de manera sencilla?\n",
    "* ¿Cómo colaborar con otras personas que no son expertos en computación?"
   ]
  },
  {
   "cell_type": "markdown",
   "metadata": {
    "slideshow": {
     "slide_type": "slide"
    }
   },
   "source": [
    "##### El Problema Inicial\n",
    "\n",
    "<img src=\"images/rate1.gif\" width=\"750\" align=\"center\">"
   ]
  },
  {
   "cell_type": "markdown",
   "metadata": {
    "slideshow": {
     "slide_type": "slide"
    }
   },
   "source": [
    "##### El Problema Inicial\n",
    "\n",
    "Inicialmente, buscábamos resolver para un radio $R$ fijo y conocido. \n",
    "El problema es obtener $S_b(t)$ y $S(t,r)$, para $t>0$ y $0<r<R$. \n",
    "\n",
    "$$\n",
    "   \\frac{\\partial S}{\\partial t}(t,r) = D_S \\left(\\frac{\\partial^2 S}{\\partial r^2}(t,r) \n",
    "   + \\frac{2}{r}\\frac{\\partial S}{\\partial r}(t,r)\\right) - V\\left(S(t,r)\\right)\n",
    "$$\n",
    "\n",
    "Condición de borde en el centro de las partículas:\n",
    "\n",
    "\\begin{align}\n",
    "   \\frac{\\partial S}{\\partial r}(t, 0) = 0 \\textrm{ para } t > 0\n",
    "\\end{align}\n",
    "\n",
    "Condiciones de borde en la superficie de la partícula:\n",
    "\n",
    "\\begin{align}\n",
    "S_b(t)  = S(t) \\textrm{ para } t > 0\n",
    "\\end{align}\n",
    "\n",
    "\\begin{align}\n",
    "\\frac{d S_b}{d t}(t)  \n",
    "   &= - 3 D_S \\frac{V_c}{V_R R} \\frac{\\partial S(t,R)}{\\partial R}  \\textrm{ para } t > 0\n",
    "\\end{align}\n",
    "\n",
    "Con la condición inicial\n",
    "\n",
    "\\begin{align}\n",
    "S_b(0) &= S_0 \\\\\n",
    "S(0,r) &= 0 \\textrm{ para } 0 \\leq r < R\n",
    "\\end{align}"
   ]
  },
  {
   "cell_type": "markdown",
   "metadata": {
    "slideshow": {
     "slide_type": "slide"
    }
   },
   "source": [
    "##### El Problema Inicial\n",
    "\n",
    "<img src=\"images/rate2.gif\" width=\"750\" align=\"center\">"
   ]
  },
  {
   "cell_type": "markdown",
   "metadata": {
    "slideshow": {
     "slide_type": "slide"
    }
   },
   "source": [
    "##### El Problema Actual\n",
    "\n",
    "El problema anterior se generalizó considerando partículas de distinto radio. El problema es obtener $S_b(t)$ y $S(t,r,R_i)$, para $t>0$, $0<r<R_i$. \n",
    "\n",
    "$$\n",
    "   \\frac{\\partial S}{\\partial t}(t,r,R_i) = D_S \\left(\\frac{\\partial^2 S}{\\partial r^2}(t,r,R_i) \n",
    "   + \\frac{2}{r}\\frac{\\partial S}{\\partial r}(t,r,R_i)\\right) - V\\left(S(t,r,R_i)\\right) I(t) Z(r, R_i)\n",
    "$$\n",
    "\n",
    "Condición de borde en el centro de las partículas:\n",
    "\n",
    "\\begin{align}\n",
    "   \\frac{\\partial S}{\\partial r}(t, 0, R_i) = 0 \\textrm{ para } t > 0\n",
    "\\end{align}\n",
    "\n",
    "Condiciones de borde en la superficie de la partícula:\n",
    "\n",
    "\\begin{align}\n",
    "S_b(t)  = S(t, R_i,R_i) \\textrm{ para } t > 0\n",
    "\\end{align}\n",
    "\n",
    "\\begin{align}\n",
    "\\frac{d S_b}{d t}(t)  \n",
    "   &= - 3 D_S \\frac{V_c}{V_R E \\left[ R^3 \\right] } E \\left[ R^2 \\left. \\frac{\\partial S}{\\partial r} \\right|_{r=R} \\right] \\textrm{ para } t > 0\n",
    "\\end{align}\n",
    "\n",
    "Con la condición inicial\n",
    "\n",
    "\\begin{align}\n",
    "S_b(0) &= S_0 \\\\\n",
    "S(0,r, R_i) &= 0 \\textrm{ para } 0 \\leq r < R_i\n",
    "\\end{align}"
   ]
  },
  {
   "cell_type": "markdown",
   "metadata": {
    "slideshow": {
     "slide_type": "slide"
    }
   },
   "source": [
    "##### Coding as a Service: librería pypsdier, aprendizajes y metodología.\n",
    "### Los Desafíos\n",
    "\n",
    "Desafíos técnicos:\n",
    "\n",
    "* ¿Cómo discretizar las ecuaciones?\n",
    "* ¿Cómo realizar la implementación numérica?"
   ]
  },
  {
   "cell_type": "markdown",
   "metadata": {
    "slideshow": {
     "slide_type": "fragment"
    }
   },
   "source": [
    "Desafíos organizacionales:\n",
    "\n",
    "* ¿Cómo colaborar?\n",
    "* ¿Cómo distribuir el código?\n",
    "* ¿Cómo simplificar el uso?\n",
    "* ¿Como hacer reproducible las simulaciones?"
   ]
  },
  {
   "cell_type": "markdown",
   "metadata": {
    "slideshow": {
     "slide_type": "slide"
    }
   },
   "source": [
    "##### Coding as a Service: librería pypsdier, aprendizajes y metodología\n",
    "### Historia\n",
    "\n",
    "* Primeras implementaciones en matlab, para reacciones químicas específicas. \n",
    "    * Problema: alta mantención, repetición de código.\n",
    "    \n",
    "* Desarrollo en python + numpy: pypsdier\n",
    "    * Generalización para número general de sustancias y reacciones arbitrarias (generales).\n",
    "    * Generalización particulas definidas por distribución de radios.\n",
    "    * Interface simple e instalación por pypi.\n",
    "\n",
    "El impacto del desarrollo conjunto es actualmente de 10 publicaciones."
   ]
  },
  {
   "cell_type": "markdown",
   "metadata": {
    "slideshow": {
     "slide_type": "slide"
    }
   },
   "source": [
    "##### Coding as a Service: librería pypsdier, aprendizajes y metodología\n",
    "### Framework: Necesidad\n",
    "\n",
    "* Propocionar instalación y versionamiento de python, jupyter y librerías necesarias.\n",
    "* Simplificar el deployment y versionamiento de un código.\n",
    "* Exponer una interface simple al usuario final, permitiendo ocultar una implementación numérica compleja y con una curva de aprendizaje apropiado.\n",
    "* Permitir almacenar y compartir resultados de simulación, para que sean analizados, reproducidos y almacenados.\n",
    "* Permitir el uso de recursos computacionales en la nube.\n",
    "* Permitir una buena documentación para desarrolladores y usuarios.\n"
   ]
  },
  {
   "cell_type": "markdown",
   "metadata": {
    "slideshow": {
     "slide_type": "slide"
    }
   },
   "source": [
    "##### Coding as a Service: librería pypsdier, aprendizajes y metodología\n",
    "### Framework: Propuesta\n",
    "\n",
    " * **Libraría instalable por pip**: instalación desde pypi o github/bithub/otro, intalarlo en local o en mybinder/colab.\n",
    " * **Versionamiento por git y versionamiento de librerías**: desarrollo incremental y que facilita colaboración.\n",
    " * **Documentación por read-the-doc**: para usuarios finales y desarrolladores.\n",
    " * **Interface simple mediante orientación a objetos** para simplificar y hacer más amigable.\n",
    " * **Semilla de simulación**: contiene toda la información de la simulación (inputs, configuración del sistema y librerías, opciones y outputs). Esta semilla puede ser almacenada y compartida."
   ]
  },
  {
   "cell_type": "markdown",
   "metadata": {
    "slideshow": {
     "slide_type": "notes"
    }
   },
   "source": [
    "* pip-installable library: this allows for a flexible approach. You can install nothing at all and run everything on google colab, or install it locally. But it's your call, and you are not forced to run everything on local (thanks free cloud providers!). This addresses installation and versioning.\n",
    "* git-versioning and library versioning: smash those bugs and document the code increments. This addresses reproducibility and versioning. \n",
    "* read-the-doc documentation: Make sure actual users and developers can learn how to use it and improve it in a no non-sense and direct way. \n",
    "* simple interface: hide the complexity of the code with some OO to make it simple for the end user. \n",
    "* simulation seed: the library should create a \"simulation seed\" that contains all the information (inputs, system and libraries configuration, options and outputs). This \"simulation seed\" can be stored and shared on itself, or together with a jupyter notebooks. This addresses the reproducibility."
   ]
  },
  {
   "cell_type": "markdown",
   "metadata": {
    "slideshow": {
     "slide_type": "slide"
    }
   },
   "source": [
    "##### Coding as a Service: librería pypsdier, aprendizajes y metodología\n",
    "### Ejemplo\n",
    "\n",
    "Consideremos un ejemplo de una reacción simple. Definamos los inputs de la simulación:"
   ]
  },
  {
   "cell_type": "code",
   "execution_count": 1,
   "metadata": {
    "slideshow": {
     "slide_type": "-"
    }
   },
   "outputs": [],
   "source": [
    "def MichaelisMenten(S, E0, k, K):\n",
    "  \"\"\"Definition for Michaelis Menten reaction with inputs E0 [mM], k [1/s] and K [mM]\"\"\"\n",
    "  return (-k*E0*S[0]/(K+S[0]), )\n",
    "\n",
    "inputs = {}\n",
    "inputs[\"SimulationTime\"] = 1*60. # [s]\n",
    "inputs[\"SavingTimeStep\"] = 10. # [s]\n",
    "inputs[\"CatalystVolume\"]  = 0.01 # [mL]\n",
    "inputs[\"BulkVolume\"]  = 40.0  # [mL]\n",
    "inputs[\"Names\"] = ('Substrat',)  # legend for the xls, reports and plots\n",
    "inputs[\"InitialConcentrations\"] = (1.0,)   # [mM]\n",
    "inputs[\"EffectiveDiffusionCoefficients\"] = (1.0E-9,)  # [m2/s]\n",
    "inputs[\"CatalystParticleRadius\"] = [100.E-6] # [m]\n",
    "inputs[\"CatalystParticleRadiusFrequency\"] = [1.0] # []\n",
    "inputs[\"ReactionFunction\"] = MichaelisMenten # function \n",
    "inputs[\"ReactionParameters\"] = (41 , 0.13)   # [1/s], [mM/s], parameters\n",
    "inputs[\"CatalystEnzymeConcentration\"] = 0.5 # [mM]s"
   ]
  },
  {
   "cell_type": "markdown",
   "metadata": {
    "slideshow": {
     "slide_type": "slide"
    }
   },
   "source": [
    "##### Coding as a Service\n",
    "### Ejemplo\n",
    "Definamos ahora opciones de gráficos para la simulación:"
   ]
  },
  {
   "cell_type": "code",
   "execution_count": 2,
   "metadata": {
    "slideshow": {
     "slide_type": "-"
    }
   },
   "outputs": [],
   "source": [
    "plot_options = {}\n",
    "plot_options[\"xlabel\"] = \"Tiempo de reacción [s]\"\n",
    "plot_options[\"ylabel\"] = \"Concentración [mM]\",\n",
    "plot_options[\"title\" ] = \"Simulación de Michaelis Menten\",\n",
    "plot_options[\"data_x\"] = [ 0.1, 2.1,  3.9,  6.1,  7.9,  9.9],  \n",
    "plot_options[\"data_y\"] = [-2.8, 3.6, 10.7, 13.6, 22.8, 27.1],\n",
    "plot_options[\"data_kwargs\"] = {'label':'exp', 'color':'red', \n",
    "                         'marker':'s', 'markersize':6, \n",
    "                         'linestyle':'none','linewidth':2}\n",
    "plot_options[\"sim_kwargs\"] = {'label':'sim', 'color':'black', \n",
    "                         'marker':'o', 'markersize':6, \n",
    "                         'linestyle':'dashed','linewidth':2}"
   ]
  },
  {
   "cell_type": "markdown",
   "metadata": {
    "slideshow": {
     "slide_type": "slide"
    }
   },
   "source": [
    "##### Coding as a Service: librería pypsdier, aprendizajes y metodología\n",
    "### Ejemplo\n",
    "Todo está listo para realizar la simulación:"
   ]
  },
  {
   "cell_type": "code",
   "execution_count": 3,
   "metadata": {
    "slideshow": {
     "slide_type": "-"
    }
   },
   "outputs": [
    {
     "ename": "ModuleNotFoundError",
     "evalue": "No module named 'pypsdier'",
     "output_type": "error",
     "traceback": [
      "\u001b[0;31m---------------------------------------------------------------------------\u001b[0m",
      "\u001b[0;31mModuleNotFoundError\u001b[0m                       Traceback (most recent call last)",
      "\u001b[0;32m<ipython-input-3-d025bd0035eb>\u001b[0m in \u001b[0;36m<module>\u001b[0;34m\u001b[0m\n\u001b[0;32m----> 1\u001b[0;31m \u001b[0;32mimport\u001b[0m \u001b[0mpypsdier\u001b[0m\u001b[0;34m\u001b[0m\u001b[0;34m\u001b[0m\u001b[0m\n\u001b[0m\u001b[1;32m      2\u001b[0m \u001b[0mSI\u001b[0m \u001b[0;34m=\u001b[0m \u001b[0mpypsdier\u001b[0m\u001b[0;34m.\u001b[0m\u001b[0mSimulationInterface\u001b[0m\u001b[0;34m(\u001b[0m\u001b[0;34m)\u001b[0m\u001b[0;34m\u001b[0m\u001b[0;34m\u001b[0m\u001b[0m\n\u001b[1;32m      3\u001b[0m \u001b[0mSI\u001b[0m\u001b[0;34m.\u001b[0m\u001b[0mnew\u001b[0m\u001b[0;34m(\u001b[0m\u001b[0minputs\u001b[0m\u001b[0;34m,\u001b[0m \u001b[0mplot_options\u001b[0m\u001b[0;34m)\u001b[0m\u001b[0;34m\u001b[0m\u001b[0;34m\u001b[0m\u001b[0m\n\u001b[1;32m      4\u001b[0m \u001b[0mSI\u001b[0m\u001b[0;34m.\u001b[0m\u001b[0msimulate\u001b[0m\u001b[0;34m(\u001b[0m\u001b[0;34m\"ode\"\u001b[0m\u001b[0;34m)\u001b[0m\u001b[0;34m\u001b[0m\u001b[0;34m\u001b[0m\u001b[0m\n\u001b[1;32m      5\u001b[0m \u001b[0mSI\u001b[0m\u001b[0;34m.\u001b[0m\u001b[0msimulate\u001b[0m\u001b[0;34m(\u001b[0m\u001b[0;34m\"pde\"\u001b[0m\u001b[0;34m)\u001b[0m\u001b[0;34m\u001b[0m\u001b[0;34m\u001b[0m\u001b[0m\n",
      "\u001b[0;31mModuleNotFoundError\u001b[0m: No module named 'pypsdier'"
     ]
    }
   ],
   "source": [
    "import pypsdier\n",
    "SI = pypsdier.SimulationInterface()\n",
    "SI.new(inputs, plot_options)\n",
    "SI.simulate(\"ode\")\n",
    "SI.simulate(\"pde\")\n",
    "SI.save(\"example_0.rde\")\n",
    "#SI.plot(filename=\"example_0.png\")\n",
    "SI.export_xls(\"example_0.xls\")"
   ]
  },
  {
   "cell_type": "markdown",
   "metadata": {
    "slideshow": {
     "slide_type": "slide"
    }
   },
   "source": [
    "##### Coding as a Service: librería pypsdier, aprendizajes y metodología\n",
    "### Framework Propuesto\n",
    "\n",
    "El framework se ha disponibilizado facilitar que un cierto código pueda disponibilizarse.\n",
    "Para ello basta con hacer un fork del repositorio \n",
    "https://github.com/sebastiandres/GenericSimulationLibrary\n",
    "y actualizar:\n",
    "\n",
    "* En `simulation_interface.py` actualizar los métodos: new, load, simulate, save, plot, export. \n",
    "* En `docs/source/*.rst` actualizar la documentación."
   ]
  },
  {
   "cell_type": "markdown",
   "metadata": {
    "slideshow": {
     "slide_type": "slide"
    }
   },
   "source": [
    "##### Coding as a Service: librería pypsdier, aprendizajes y metodología\n",
    "### Conclusión\n",
    "\n",
    "* Herramientas actuales hacen sencilla la colaboración interdisciplinaria.\n",
    "* El framework propuesto simplifica el desarrollo y la reproducibilidad del código.\n",
    "* Python + numpy permite una implementación numérica flexible y robusta."
   ]
  },
  {
   "cell_type": "markdown",
   "metadata": {
    "slideshow": {
     "slide_type": "slide"
    }
   },
   "source": [
    "##### Coding as a Service: librería pypsdier, aprendizajes y metodología\n",
    "### Cierre\n",
    "\n",
    "Las librerías están disponibles para descarga o instalación:\n",
    "* Librería `pypsdier`: https://github.com/sebastiandres/pypsdier\n",
    "* Framework `Coding as a Service`: https://github.com/sebastiandres/GenericSimulationLibrary\n",
    "\n",
    "Gracias por sus comentarios."
   ]
  },
  {
   "cell_type": "markdown",
   "metadata": {
    "slideshow": {
     "slide_type": "fragment"
    }
   },
   "source": [
    "Les agradecería responder una encuesta sobre la charla:\n",
    "<br>\n",
    "<br>\n",
    "<div style='font-size:125%'>https://bit.ly/2ZBOPTT</div>"
   ]
  }
 ],
 "metadata": {
  "celltoolbar": "Slideshow",
  "kernelspec": {
   "display_name": "Python 3",
   "language": "python",
   "name": "python3"
  },
  "language_info": {
   "codemirror_mode": {
    "name": "ipython",
    "version": 3
   },
   "file_extension": ".py",
   "mimetype": "text/x-python",
   "name": "python",
   "nbconvert_exporter": "python",
   "pygments_lexer": "ipython3",
   "version": "3.7.4"
  }
 },
 "nbformat": 4,
 "nbformat_minor": 4
}
