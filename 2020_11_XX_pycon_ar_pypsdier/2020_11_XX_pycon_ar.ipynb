{
 "cells": [
  {
   "cell_type": "code",
   "execution_count": null,
   "metadata": {
    "slideshow": {
     "slide_type": "skip"
    }
   },
   "outputs": [],
   "source": [
    "#!/usr/bin/env python3\n",
    "from traitlets.config.manager import BaseJSONConfigManager\n",
    "from pathlib import Path\n",
    "path = Path.home() / \".jupyter\" / \"nbconfig\"\n",
    "cm = BaseJSONConfigManager(config_dir=str(path))\n",
    "cm.update(\n",
    "    \"rise\",\n",
    "    {\n",
    "        \"theme\": \"white\",\n",
    "        \"transition\": \"none\",\n",
    "        \"autolaunch\": True,\n",
    "    }\n",
    ")"
   ]
  },
  {
   "cell_type": "code",
   "execution_count": null,
   "metadata": {
    "slideshow": {
     "slide_type": "skip"
    }
   },
   "outputs": [],
   "source": [
    "%matplotlib inline"
   ]
  },
  {
   "cell_type": "markdown",
   "metadata": {
    "slideshow": {
     "slide_type": "slide"
    }
   },
   "source": [
    "<div style=\"float: left; width: 80%;\">\n",
    "<h1>Coding as a Service: <br>\n",
    "Librería pypsdier, aprendizajes y metodología.</h1>\n",
    "<h2>Sebastián Flores</h2>\n",
    "<h3>Pycon Argentina 2020</h3>\n",
    "</div>\n",
    "<div style=\"float: right; width: 20%;\">\n",
    "<img src=\"images/pycon_ar.gif\" width=\"400\" align=\"center\">\n",
    "</div>"
   ]
  },
  {
   "cell_type": "markdown",
   "metadata": {
    "slideshow": {
     "slide_type": "slide"
    }
   },
   "source": [
    "##### Coding as a Service: librería pypsdier, aprendizajes y metodología.\n",
    "### Observaciones:\n",
    "\n",
    "* @sebastiandres en twitter y github.\n",
    "* Opiniones y críticas a título personal.\n",
    "* No se necesita conocer de química, matemática o python avanzado.\n",
    "* Presentación disponible en https://www.github.com/sebastiandres/charlas y realizada con jupyter+RISE."
   ]
  },
  {
   "cell_type": "markdown",
   "metadata": {
    "slideshow": {
     "slide_type": "slide"
    }
   },
   "source": [
    "##### Coding as a Service: librería pypsdier, aprendizajes y metodología.\n",
    "### Autores\n",
    "\n",
    "<div style=\"float: left; width: 50%;\">\n",
    "<img src=\"images/autores_seba.gif\" width=\"600\" align=\"center\">\n",
    "<h4>Sebastián Flores</h4>\n",
    "M.Sc. Mathematical and Computational Engineering<br>\n",
    "M.Sc. Mécanique Numérique<br>\n",
    "Ingeniero Civil Matemático<br>\n",
    "u-planner - Chile\n",
    "</div>\n",
    "<img src=\"images/autores_pedro.jpg\" width=\"600\" align=\"center\">\n",
    "<div style=\"float: right; width: 50%;\">\n",
    "<h4>Pedro Valencia</h4>\n",
    "Ph.D Ingeniería Bioquímica<br>\n",
    "M.Sc. Ingeniería Bioquímica<br>\n",
    "Bioquímico<br>\n",
    "UTFSM - Chile\n",
    "</div>"
   ]
  },
  {
   "cell_type": "markdown",
   "metadata": {
    "slideshow": {
     "slide_type": "slide"
    }
   },
   "source": [
    "##### Coding as a Service: librería pypsdier, aprendizajes y metodología\n",
    "### Historia\n",
    "\n",
    "* Origen: \n",
    "   * Proyecto de colaboración en curso de matemáticas aplicadas."
   ]
  },
  {
   "cell_type": "markdown",
   "metadata": {
    "slideshow": {
     "slide_type": "fragment"
    }
   },
   "source": [
    "* Primeras implementaciones en MATLAB:\n",
    "    * Problema: Cada nueva reacción química requiere una nueva implementación numérica. \n",
    "    * Repetición de código y mantención tediosa."
   ]
  },
  {
   "cell_type": "markdown",
   "metadata": {
    "slideshow": {
     "slide_type": "fragment"
    }
   },
   "source": [
    "* Desarrollo en Python:\n",
    "    * Código genérico: librería pypsdier. \n",
    "    * Interface simple e instalación por pypi.\n",
    "    * Reacciones químicas definidas como funciones.\n",
    "    * Número arbitrario de sustancias (sustratos o productos).\n",
    "    * Tamaño de partículas definidas por una lista de radios y frecuencias."
   ]
  },
  {
   "cell_type": "markdown",
   "metadata": {
    "slideshow": {
     "slide_type": "fragment"
    }
   },
   "source": [
    "* Impacto: \n",
    "    * 9 publicaciones.\n",
    "    * Código abierto y en constante evolución."
   ]
  },
  {
   "cell_type": "markdown",
   "metadata": {
    "slideshow": {
     "slide_type": "slide"
    }
   },
   "source": [
    "##### Coding as a Service: librería pypsdier, aprendizajes y metodología\n",
    "### Problema\n",
    "\n",
    "* Pedro no conocía Python. Actualmente, nivel de usuario básico.\n",
    "* Sebastián tiene (aún) conocimientos nulos en bioquímica."
   ]
  },
  {
   "cell_type": "markdown",
   "metadata": {
    "slideshow": {
     "slide_type": "fragment"
    }
   },
   "source": [
    "**¿Cómo colaborar de manera eficiente?**"
   ]
  },
  {
   "cell_type": "markdown",
   "metadata": {
    "slideshow": {
     "slide_type": "fragment"
    }
   },
   "source": [
    "El problema más general: \n",
    "\n",
    "**¿Cuál es la manera más sencilla de entregar \"Coding As A Service\"?**"
   ]
  },
  {
   "cell_type": "markdown",
   "metadata": {
    "slideshow": {
     "slide_type": "slide"
    }
   },
   "source": [
    "##### Coding as a Service: librería pypsdier, aprendizajes y metodología\n",
    "### Ejemplo\n",
    "\n",
    "¿Cuál es la manera más sencilla de entregar \"Coding As A Service\"?"
   ]
  },
  {
   "cell_type": "markdown",
   "metadata": {
    "slideshow": {
     "slide_type": "fragment"
    }
   },
   "source": [
    "Tiene que ser tan fácil que puedas explicárselo a tu abuela."
   ]
  },
  {
   "cell_type": "markdown",
   "metadata": {
    "slideshow": {
     "slide_type": "fragment"
    }
   },
   "source": [
    "<div style=\"float: left; width: 20%;\"></div>\n",
    "<div style=\"float: right; width: 80%;\"><img src=\"images/abue.png\" width=\"1200\" align=\"center\"></div>"
   ]
  },
  {
   "cell_type": "markdown",
   "metadata": {
    "slideshow": {
     "slide_type": "slide"
    }
   },
   "source": [
    "##### Coding as a Service: librería pypsdier, aprendizajes y metodología\n",
    "### Solución para la abuela\n",
    "Abue, vaya a este link y aprete play:\n",
    "\n",
    "\n",
    "https://bit.ly/2IetMRn"
   ]
  },
  {
   "cell_type": "markdown",
   "metadata": {
    "slideshow": {
     "slide_type": "slide"
    }
   },
   "source": [
    "##### Coding as a Service: librería pypsdier, aprendizajes y metodología.\n",
    "\n",
    "### Nuestro problema a resolver\n",
    "\n",
    "<div style=\"float: right; width: 100%;\"><img src=\"images/setup.gif\" width=\"2500\" align=\"center\"></div>"
   ]
  },
  {
   "cell_type": "markdown",
   "metadata": {
    "slideshow": {
     "slide_type": "slide"
    }
   },
   "source": [
    "##### Coding as a Service: librería pypsdier, aprendizajes y metodología.\n",
    "\n",
    "### Nuestro problema a resolver\n",
    "\n",
    "<div style=\"float: right; width: 90%;\"><img src=\"images/variables.gif\" width=\"1600\" align=\"center\"></div>"
   ]
  },
  {
   "cell_type": "markdown",
   "metadata": {
    "slideshow": {
     "slide_type": "slide"
    }
   },
   "source": [
    "##### Coding as a Service: librería pypsdier, aprendizajes y metodología.\n",
    "\n",
    "### Nuestro problema a resolver\n",
    "\n",
    "El problema es obtener $S_b(t)$ y $S(t,r,R_i)$, para $t>0$, $0<r<R_i$. \n",
    "\n",
    "$$\n",
    "   \\frac{\\partial S}{\\partial t}(t,r,R_i) = D_S \\left(\\frac{\\partial^2 S}{\\partial r^2}(t,r,R_i) \n",
    "   + \\frac{2}{r}\\frac{\\partial S}{\\partial r}(t,r,R_i)\\right) - V_e\\left(S, r, t \\right)\n",
    "$$\n",
    "\n",
    "Condición de borde en el centro de las partículas:\n",
    "\n",
    "\\begin{align}\n",
    "   \\frac{\\partial S}{\\partial r}(t, 0, R_i) = 0 \\textrm{ para } t > 0\n",
    "\\end{align}\n",
    "\n",
    "Condiciones de borde en la superficie de la partícula:\n",
    "\n",
    "\\begin{align}\n",
    "S_b(t)  = S(t, R_i,R_i) \\textrm{ para } t > 0\n",
    "\\end{align}\n",
    "\n",
    "\\begin{align}\n",
    "\\frac{d S_b}{d t}(t)  \n",
    "   &= - 3 D_S \\frac{V_c}{V_R E \\left[ R^3 \\right] } E \\left[ R^2 \\left. \\frac{\\partial S}{\\partial r} \\right|_{r=R} \\right] \\textrm{ para } t > 0\n",
    "\\end{align}\n",
    "\n",
    "Con la condición inicial\n",
    "\n",
    "\\begin{align}\n",
    "S_b(0) &= S_0 \\\\\n",
    "S(0,r, R_i) &= 0 \\textrm{ para } 0 \\leq r < R_i\n",
    "\\end{align}"
   ]
  },
  {
   "cell_type": "markdown",
   "metadata": {
    "slideshow": {
     "slide_type": "slide"
    }
   },
   "source": [
    "##### Coding as a Service: librería pypsdier, aprendizajes y metodología.\n",
    "\n",
    "### Nuestro problema a resolver\n",
    "\n",
    "<div style=\"float: right; width: 90%;\"><img src=\"images/time_evolution.gif\" width=\"1800\" align=\"center\"></div>"
   ]
  },
  {
   "cell_type": "markdown",
   "metadata": {
    "slideshow": {
     "slide_type": "slide"
    }
   },
   "source": [
    "##### Coding as a Service: librería pypsdier, aprendizajes y metodología.\n",
    "### Los Desafíos\n",
    "\n",
    "Desafíos técnicos:\n",
    "\n",
    "* ¿Cómo discretizar las ecuaciones?\n",
    "* ¿Cómo realizar la implementación numérica?\n",
    "* ¿Cómo resolver para reacciones químicas distintas y un número arbitrario de sustancias y tamaños de partículas?"
   ]
  },
  {
   "cell_type": "markdown",
   "metadata": {
    "slideshow": {
     "slide_type": "fragment"
    }
   },
   "source": [
    "Esta es la parte tiene solución directa y conocida:\n",
    "* Discretizar ecuaciones utilizando diferencias finitas para el tiempo ($\\Delta t$) y espacio ($\\Delta R_i$).\n",
    "* Asegurar estabilidad numérica dependiendo de los inputs.\n",
    "* Implementación flexible con python + numpy + matplotlib + otros."
   ]
  },
  {
   "cell_type": "markdown",
   "metadata": {
    "slideshow": {
     "slide_type": "slide"
    }
   },
   "source": [
    "##### Coding as a Service: librería pypsdier, aprendizajes y metodología.\n",
    "### Los Desafíos\n",
    "\n",
    "Desafíos organizacionales:\n",
    "\n",
    "* ¿Cómo colaborar?\n",
    "* ¿Cómo distribuir el código?\n",
    "* ¿Cómo hacer fácil el uso?\n",
    "* ¿Cómo hacer reproducible las simulaciones?\n",
    "* ¿Cómo documentar el código?\n",
    "* ¿Cómo almacenar los resultados de las simulaciones?"
   ]
  },
  {
   "cell_type": "markdown",
   "metadata": {
    "slideshow": {
     "slide_type": "fragment"
    }
   },
   "source": [
    "Esta parte no tiene una solución directa:\n",
    "* No había mucha información al respecto.\n",
    "* Cada equipo lo resuelve a su manera.\n",
    "* Existen muchas herramientas que nos simplifican la vida."
   ]
  },
  {
   "cell_type": "markdown",
   "metadata": {
    "slideshow": {
     "slide_type": "slide"
    }
   },
   "source": [
    "##### Coding as a Service: librería pypsdier, aprendizajes y metodología\n",
    "### Framework: ¿Qué necesitábamos?\n",
    "\n",
    "(1) Propocionar **instalación** y **versionamiento** de python, jupyter y librerías necesarias.\n",
    "\n",
    "(2) Facilitar **desarrollo incremental** considerando devs y users.\n",
    "\n",
    "(3) Permitir una buena **documentación** para desarrolladores y usuarios.\n",
    "\n",
    "(4)  Exponer una **interface simple** al usuario final, permitiendo ocultar una implementación numérica compleja y con una curva de aprendizaje apropiado.\n",
    "\n",
    "(5) Permitir **reproducir**, **almacenar** y **compartir** resultados de simulación.\n",
    "\n",
    "(6) Permitir el uso de recursos computacionales en la **nube**.\n"
   ]
  },
  {
   "cell_type": "markdown",
   "metadata": {
    "slideshow": {
     "slide_type": "slide"
    }
   },
   "source": [
    "##### Coding as a Service: librería pypsdier, aprendizajes y metodología\n",
    "#### Necesidades\n",
    "\n",
    "(1) Propocionar **instalación** y **versionamiento** de python, jupyter y librerías necesarias.\n",
    "\n",
    "(2) Facilitar **desarrollo incremental** considerando desarrolladores y usuarios."
   ]
  },
  {
   "cell_type": "markdown",
   "metadata": {
    "slideshow": {
     "slide_type": "fragment"
    }
   },
   "source": [
    "### Solución\n",
    "\n",
    "Estructura de proyecto de python, para instalar con pypi o desde github.\n",
    "\n",
    "<div style=\"float: left; width: 50%;\">\n",
    "<img src=\"images/pypi_1.png\" width=\"1000\" align=\"center\">\n",
    "</div>\n",
    "<div style=\"float: right; width: 5%;\">\n",
    "</div>\n",
    "<div style=\"float: right; width: 50%;\">\n",
    "<img src=\"images/pypi_2.png\" width=\"1000\" align=\"center\">\n",
    "</div>"
   ]
  },
  {
   "cell_type": "markdown",
   "metadata": {
    "slideshow": {
     "slide_type": "slide"
    }
   },
   "source": [
    "##### Coding as a Service: librería pypsdier, aprendizajes y metodología\n",
    "#### Necesidades\n",
    "\n",
    "(3) Permitir una buena **documentación** para desarrolladores y usuarios."
   ]
  },
  {
   "cell_type": "markdown",
   "metadata": {
    "slideshow": {
     "slide_type": "fragment"
    }
   },
   "source": [
    "### Solución\n",
    "<div style=\"float: left; width: 50%;\">\n",
    "<img src=\"images/readthedocs_1.png\" width=\"1000\" align=\"center\">\n",
    "</div>\n",
    "<div style=\"float: right; width: 50%;\">\n",
    "<img src=\"images/readthedocs_2.png\" width=\"1000\" align=\"center\">\n",
    "</div>"
   ]
  },
  {
   "cell_type": "markdown",
   "metadata": {
    "slideshow": {
     "slide_type": "slide"
    }
   },
   "source": [
    "##### Coding as a Service: librería pypsdier, aprendizajes y metodología\n",
    "#### Necesidades\n",
    "\n",
    "(4) Exponer una **interface simple** al usuario final, permitiendo ocultar una implementación numérica compleja y con una curva de aprendizaje apropiado.\n",
    "\n",
    "(5) Permitir **reproducir**, **almacenar** y **compartir** resultados de simulación."
   ]
  },
  {
   "cell_type": "markdown",
   "metadata": {
    "slideshow": {
     "slide_type": "fragment"
    }
   },
   "source": [
    "### Solución\n",
    "\n",
    "<div style=\"float: right; width: 90%;\"><img src=\"images/pypsdier_methods.png\" height=\"1600\" align=\"center\"></div>"
   ]
  },
  {
   "cell_type": "markdown",
   "metadata": {
    "slideshow": {
     "slide_type": "slide"
    }
   },
   "source": [
    "##### Coding as a Service: librería pypsdier, aprendizajes y metodología\n",
    "### Solución\n",
    "\n",
    "(5) Permitir **reproducir**, **almacenar** y **compartir** resultados de simulación.\n",
    "\n",
    "(6) Permitir el uso de recursos computacionales en la **nube**."
   ]
  },
  {
   "cell_type": "markdown",
   "metadata": {
    "slideshow": {
     "slide_type": "fragment"
    }
   },
   "source": [
    "### Solución\n",
    "<div style=\"float: right; width: 80%;\"><img src=\"images/colab2.gif\" width=\"1200\" align=\"center\"></div>"
   ]
  },
  {
   "cell_type": "markdown",
   "metadata": {
    "slideshow": {
     "slide_type": "slide"
    }
   },
   "source": [
    "##### Coding as a Service: librería pypsdier, aprendizajes y metodología\n",
    "### Ejemplo de pypsdier\n",
    "\n",
    "Primero que nada, instalaremos la librería:"
   ]
  },
  {
   "cell_type": "code",
   "execution_count": 63,
   "metadata": {},
   "outputs": [
    {
     "name": "stdout",
     "output_type": "stream",
     "text": [
      "Collecting git+https://github.com/sebastiandres/pypsdier.git\n",
      "  Cloning https://github.com/sebastiandres/pypsdier.git to /private/var/folders/68/v1ds0ld152q_wk4sbcns3ckw0000gn/T/pip-req-build-mm52_b8o\n",
      "  Running command git clone -q https://github.com/sebastiandres/pypsdier.git /private/var/folders/68/v1ds0ld152q_wk4sbcns3ckw0000gn/T/pip-req-build-mm52_b8o\n",
      "Building wheels for collected packages: pypsdier\n",
      "  Building wheel for pypsdier (setup.py) ... \u001b[?25ldone\n",
      "\u001b[?25h  Created wheel for pypsdier: filename=pypsdier-1.1.1-cp37-none-any.whl size=14659 sha256=34556c2c7b1b3be6222355f403a45817e8b5a0154f44037f940a4923711fe71d\n",
      "  Stored in directory: /private/var/folders/68/v1ds0ld152q_wk4sbcns3ckw0000gn/T/pip-ephem-wheel-cache-csxbayor/wheels/57/71/0f/2f6f43ab73e6371b622a1e181130163a445c394d19b74a80d1\n",
      "Successfully built pypsdier\n",
      "Installing collected packages: pypsdier\n",
      "  Found existing installation: pypsdier 1.1.1\n",
      "    Uninstalling pypsdier-1.1.1:\n",
      "      Successfully uninstalled pypsdier-1.1.1\n",
      "Successfully installed pypsdier-1.1.1\n"
     ]
    }
   ],
   "source": [
    "#!pip install pypsdier --upgrade\n",
    "!pip install git+https://github.com/sebastiandres/pypsdier.git --upgrade"
   ]
  },
  {
   "cell_type": "markdown",
   "metadata": {
    "slideshow": {
     "slide_type": "slide"
    }
   },
   "source": [
    "##### Coding as a Service: librería pypsdier, aprendizajes y metodología\n",
    "### Ejemplo\n",
    "\n",
    "Consideremos un ejemplo de una reacción simple. Definamos los inputs de la simulación:"
   ]
  },
  {
   "cell_type": "code",
   "execution_count": 64,
   "metadata": {
    "slideshow": {
     "slide_type": "-"
    }
   },
   "outputs": [],
   "source": [
    "def MichaelisMenten(S, E0, k, K):\n",
    "  \"\"\"Definition for Michaelis Menten reaction with inputs E0 [mM], k [1/s] and K [mM]\"\"\"\n",
    "  return (-k*E0*S[0]/(K+S[0]), )\n",
    "\n",
    "inputs = {}\n",
    "inputs[\"SimulationTime\"] = 30. # [s]\n",
    "inputs[\"SavingTimeStep\"] = 1. # [s]\n",
    "inputs[\"CatalystVolume\"] = 0.5 # [mL]\n",
    "inputs[\"BulkVolume\"]  = 100.0  # [mL]\n",
    "inputs[\"Names\"] = ('Substrat',)  # legend for the xls, reports and plots\n",
    "inputs[\"InitialConcentrations\"] = (1.3,)   # [mM]\n",
    "inputs[\"EffectiveDiffusionCoefficients\"] = (5.3E-10,)  # [m2/s]\n",
    "inputs[\"CatalystParticleRadius\"] = [40.0E-6, 60.0E-6, 80.0E-6] # [m]\n",
    "inputs[\"CatalystParticleRadiusFrequency\"] = [0.3, 0.5, 0.2] # []\n",
    "inputs[\"ReactionFunction\"] = MichaelisMenten # function \n",
    "inputs[\"ReactionParameters\"] = (41 , 0.13)   # [1/s], [mM/s], parameters\n",
    "inputs[\"CatalystEnzymeConcentration\"] = 0.35 # [mM]"
   ]
  },
  {
   "cell_type": "markdown",
   "metadata": {
    "slideshow": {
     "slide_type": "slide"
    }
   },
   "source": [
    "##### Coding as a Service\n",
    "### Ejemplo\n",
    "Definamos ahora opciones de gráficos para la simulación:"
   ]
  },
  {
   "cell_type": "code",
   "execution_count": 65,
   "metadata": {
    "slideshow": {
     "slide_type": "-"
    }
   },
   "outputs": [],
   "source": [
    "plot_options = {}\n",
    "plot_options[\"label_x\"] = \"Tiempo de reacción [s]\"\n",
    "plot_options[\"label_y\"] = \"Concentración [mM]\"\n",
    "plot_options[\"title\"] = \"Simulación de Michaelis Menten para la PyconAr\"\n",
    "plot_options[\"ode_kwargs\"] = {'label':'Enzima Libre', 'color':'blue', 'marker':'', 'markersize':6, 'linestyle':'dashed', 'linewidth':2}\n",
    "plot_options[\"pde_kwargs\"] = {'label':'Enzima Inmobilizada', 'color':'blue', 'marker':'', 'markersize':6, 'linestyle':'solid', 'linewidth':2}\n",
    "plot_options[\"data_kwargs\"] = {'label':'Experimento', 'color':'green', 'marker':'s', 'markersize':8, 'linestyle':'none', 'linewidth':2}\n",
    "plot_options[\"data_x\"] = [0.0, 30, 60, 90, 120]\n",
    "plot_options[\"data_y\"] = [1.3, 0.65, 0.25, 0.10, 0.0]"
   ]
  },
  {
   "cell_type": "markdown",
   "metadata": {
    "slideshow": {
     "slide_type": "slide"
    }
   },
   "source": [
    "##### Coding as a Service: librería pypsdier, aprendizajes y metodología\n",
    "### Ejemplo pypsdier\n",
    "Todo está listo para realizar una simulación (muy sencilla):"
   ]
  },
  {
   "cell_type": "code",
   "execution_count": 66,
   "metadata": {
    "slideshow": {
     "slide_type": "-"
    }
   },
   "outputs": [],
   "source": [
    "import pypsdier\n",
    "SIM1 = pypsdier.SimulationInterface()\n",
    "SIM1.new(inputs, plot_options)"
   ]
  },
  {
   "cell_type": "code",
   "execution_count": 67,
   "metadata": {},
   "outputs": [
    {
     "name": "stdout",
     "output_type": "stream",
     "text": [
      "ODE: Solving without diffusional restriction (simplified problem). No porous particles are present. The substance and the enzyme are assumed to be diluted on the bulk phase\n",
      "Simulation completed.\n"
     ]
    }
   ],
   "source": [
    "SIM1.simulate(\"ode\")"
   ]
  },
  {
   "cell_type": "code",
   "execution_count": 68,
   "metadata": {},
   "outputs": [
    {
     "name": "stdout",
     "output_type": "stream",
     "text": [
      "PDE: Solving the complete reaction-diffusion problem, considering a single substance and 3 particle radii.\n",
      "Simulated 030 secs out of  30 secs (Remaining time < 1 mins) \n"
     ]
    }
   ],
   "source": [
    "SIM1.simulate(\"pde\")"
   ]
  },
  {
   "cell_type": "code",
   "execution_count": 69,
   "metadata": {},
   "outputs": [
    {
     "name": "stdout",
     "output_type": "stream",
     "text": [
      "Saving simulation into file at /Users/sebastiandres/Desktop/Personales/github_repos/charlas/2020_11_XX_pycon_ar_pypsdier/pycon_saving_example.rde\n"
     ]
    }
   ],
   "source": [
    "SIM1.save(\"pycon_saving_example.rde\")"
   ]
  },
  {
   "cell_type": "markdown",
   "metadata": {
    "slideshow": {
     "slide_type": "slide"
    }
   },
   "source": [
    "##### Coding as a Service: librería pypsdier, aprendizajes y metodología\n",
    "### Ejemplo pypsdier\n",
    "Podemos definir funciones específicas para exportar en formato excel o graficar"
   ]
  },
  {
   "cell_type": "code",
   "execution_count": 70,
   "metadata": {
    "slideshow": {
     "slide_type": "-"
    }
   },
   "outputs": [
    {
     "name": "stdout",
     "output_type": "stream",
     "text": [
      "Saving simulation as xls file at /Users/sebastiandres/Desktop/Personales/github_repos/charlas/2020_11_XX_pycon_ar_pypsdier/pycon_excel_example.xls\n"
     ]
    }
   ],
   "source": [
    "SIM1.export_xls(\"pycon_excel_example.xls\")"
   ]
  },
  {
   "cell_type": "code",
   "execution_count": 71,
   "metadata": {},
   "outputs": [
    {
     "data": {
      "image/png": "[encoded data removed]",
      "text/plain": [
       "<Figure size 1152x864 with 1 Axes>"
      ]
     },
     "metadata": {
      "needs_background": "light"
     },
     "output_type": "display_data"
    }
   ],
   "source": [
    "SIM1.plot(figsize=(16,12))"
   ]
  },
  {
   "cell_type": "markdown",
   "metadata": {
    "slideshow": {
     "slide_type": "slide"
    }
   },
   "source": [
    "##### Coding as a Service: librería pypsdier, aprendizajes y metodología\n",
    "### Ejemplo pypsdier\n",
    "\n",
    "¿Y la reproducibilidad?\n",
    "\n",
    "Una simulación realizada almacena todas las características con las cuales se generó. "
   ]
  },
  {
   "cell_type": "code",
   "execution_count": 72,
   "metadata": {},
   "outputs": [
    {
     "name": "stdout",
     "output_type": "stream",
     "text": [
      "Loaded a simulation from /Users/sebastiandres/Desktop/Personales/github_repos/charlas/2020_11_XX_pycon_ar_pypsdier/pycon_colab_example.rde\n"
     ]
    }
   ],
   "source": [
    "import pypsdier\n",
    "SIM2 = pypsdier.SimulationInterface()\n",
    "SIM2.load(\"pycon_colab_example.rde\") # load instead of new"
   ]
  },
  {
   "cell_type": "code",
   "execution_count": 73,
   "metadata": {},
   "outputs": [
    {
     "name": "stdout",
     "output_type": "stream",
     "text": [
      "System configuration:\n",
      "    environment: google_colab\n",
      "    python version: 3.6.9\n",
      "    GenericSimulationLibrary version: 1.1.0\n",
      "    numpy version: 1.18.5\n",
      "    scipy version: 1.4.1\n",
      "    xlwt version: 1.3.0\n",
      "    matplotlib version: 3.2.2\n",
      "    dill version: 0.3.2\n",
      "Inputs:\n",
      "    SimulationTime: 120.0\n",
      "    SavingTimeStep: 1.0\n",
      "    CatalystVolume: 0.5\n",
      "    BulkVolume: 100.0\n",
      "    Names: ('Substrat',)\n",
      "    InitialConcentrations: (1.3,)\n",
      "    EffectiveDiffusionCoefficients: (5.3e-10,)\n",
      "    CatalystParticleRadius: [4e-05, 6e-05, 8e-05]\n",
      "    CatalystParticleRadiusFrequency: [0.3, 0.5, 0.2]\n",
      "    ReactionFunction: <function MichaelisMenten at 0x134d50dd0>\n",
      "    ReactionParameters: (41, 0.13)\n",
      "    CatalystEnzymeConcentration: 0.35\n",
      "Plot Options:\n",
      "    title: Simulación de Michaelis Menten para la PyconAr\n",
      "    label_x: Tiempo de reacción [s]\n",
      "    label_y: Concentración [mM]\n",
      "    ode_kwargs: {'label': 'ode', 'color': 'black', 'marker': '', 'markersize': 6, 'linestyle': 'dashed', 'linewidth': 2}\n",
      "    pde_kwargs: {'label': 'pde', 'color': 'black', 'marker': '', 'markersize': 6, 'linestyle': 'solid', 'linewidth': 2}\n",
      "    data_kwargs: {'label': 'exp', 'color': 'red', 'marker': 's', 'markersize': 6, 'linestyle': 'none', 'linewidth': 2}\n",
      "    data_x: [0.0, 30, 60, 90, 120]\n",
      "    data_y: [1.3, 0.65, 0.25, 0.1, 0.0]\n",
      "Simulations:\n",
      "    ODE: yes\n",
      "    PDE: yes\n"
     ]
    }
   ],
   "source": [
    "SIM2.status()"
   ]
  },
  {
   "cell_type": "markdown",
   "metadata": {
    "slideshow": {
     "slide_type": "slide"
    }
   },
   "source": [
    "##### Coding as a Service: librería pypsdier, aprendizajes y metodología\n",
    "### Ejemplo pypsdier\n",
    "\n",
    "Podemos cargar una simulación realizada previamente y analizarla (sin necesidad de volver a realizar la simulación)."
   ]
  },
  {
   "cell_type": "code",
   "execution_count": 74,
   "metadata": {
    "slideshow": {
     "slide_type": "-"
    }
   },
   "outputs": [
    {
     "data": {
      "image/png": "[encoded data removed]",
      "text/plain": [
       "<Figure size 1440x864 with 1 Axes>"
      ]
     },
     "metadata": {
      "needs_background": "light"
     },
     "output_type": "display_data"
    }
   ],
   "source": [
    "SIM2.plot(figsize=(20,12))"
   ]
  },
  {
   "cell_type": "markdown",
   "metadata": {
    "slideshow": {
     "slide_type": "slide"
    }
   },
   "source": [
    "##### Coding as a Service: librería pypsdier, aprendizajes y metodología\n",
    "### Framework Propuesto\n",
    "\n",
    "La librería pypsdier es específica al problema de reacción-difusión para reactores de enzima inmobilizada, con flexibilidad para diferentes modelos de reacción y condiciones de operación.\n",
    "\n",
    "Sin embargo, se propone un framework de trabajo con las funcionalidades mínimas: **GenericSimulationLibrary**\n",
    "\n",
    "Disponible en\n",
    "https://github.com/sebastiandres/GenericSimulationLibrary:\n",
    "\n",
    "* En `simulation_interface.py` actualizar los métodos: new, load, simulate, save, plot, export. \n",
    "* En `docs/source/*.rst` actualizar la documentación."
   ]
  },
  {
   "cell_type": "markdown",
   "metadata": {
    "slideshow": {
     "slide_type": "slide"
    }
   },
   "source": [
    "##### Coding as a Service: librería pypsdier, aprendizajes y metodología\n",
    "### Conclusión\n",
    "\n",
    "Todo lo anterior no es muy distinto a lo que se hace en una librería \"formal\"."
   ]
  },
  {
   "cell_type": "markdown",
   "metadata": {
    "slideshow": {
     "slide_type": "fragment"
    }
   },
   "source": [
    "**Aprendizaje**: \n",
    "\n",
    "Puedes usar las mismas herramientas e ideas, aunque tu equipo y proyecto sea más pequeño e informal, porque simplifican y mejoran la colaboración."
   ]
  },
  {
   "cell_type": "markdown",
   "metadata": {
    "slideshow": {
     "slide_type": "fragment"
    }
   },
   "source": [
    "* git + github/bitbucket.\n",
    "* readthedocs\n",
    "* pypi\n",
    "* google colab/mybinder\n",
    "* Interface OO"
   ]
  },
  {
   "cell_type": "markdown",
   "metadata": {
    "slideshow": {
     "slide_type": "slide"
    }
   },
   "source": [
    "<div style=\"float: left; width: 60%;\">\n",
    "<h1>Coding as a Service: <br>\n",
    "Librería pypsdier, aprendizajes y metodología.</h1>\n",
    "<h2>Sebastián Flores</h2>\n",
    "<h3>Pycon Argentina 2020</h3>\n",
    "</div>\n",
    "<div style=\"float: right; width: 40%;\">\n",
    "<br>\n",
    "Encuesta: \n",
    "<br>\n",
    "<a href=\"https://bit.ly/354jhrQ\" style='font-size:150%'>https://bit.ly/354jhrQ</a>\n",
    "<img src=\"images/QR_pycon_ar.png\" width=\"400\" align=\"center\">\n",
    "</div>\n",
    "\n"
   ]
  },
  {
   "cell_type": "code",
   "execution_count": null,
   "metadata": {
    "slideshow": {
     "slide_type": "skip"
    }
   },
   "outputs": [],
   "source": []
  }
 ],
 "metadata": {
  "celltoolbar": "Slideshow",
  "kernelspec": {
   "display_name": "Python 3",
   "language": "python",
   "name": "python3"
  },
  "language_info": {
   "codemirror_mode": {
    "name": "ipython",
    "version": 3
   },
   "file_extension": ".py",
   "mimetype": "text/x-python",
   "name": "python",
   "nbconvert_exporter": "python",
   "pygments_lexer": "ipython3",
   "version": "3.7.4"
  }
 },
 "nbformat": 4,
 "nbformat_minor": 4
}
