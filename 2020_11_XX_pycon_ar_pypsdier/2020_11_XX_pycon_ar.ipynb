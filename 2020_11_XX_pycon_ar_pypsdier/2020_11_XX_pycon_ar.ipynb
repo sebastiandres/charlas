{
 "cells": [
  {
   "cell_type": "code",
   "execution_count": null,
   "metadata": {
    "slideshow": {
     "slide_type": "skip"
    }
   },
   "outputs": [],
   "source": [
    "#!/usr/bin/env python3\n",
    "from traitlets.config.manager import BaseJSONConfigManager\n",
    "from pathlib import Path\n",
    "path = Path.home() / \".jupyter\" / \"nbconfig\"\n",
    "cm = BaseJSONConfigManager(config_dir=str(path))\n",
    "cm.update(\n",
    "    \"rise\",\n",
    "    {\n",
    "        \"theme\": \"white\",\n",
    "        \"transition\": \"none\",\n",
    "        \"autolaunch\": True,\n",
    "    }\n",
    ")"
   ]
  },
  {
   "cell_type": "code",
   "execution_count": null,
   "metadata": {
    "slideshow": {
     "slide_type": "skip"
    }
   },
   "outputs": [],
   "source": [
    "%matplotlib inline"
   ]
  },
  {
   "cell_type": "markdown",
   "metadata": {
    "slideshow": {
     "slide_type": "slide"
    }
   },
   "source": [
    "<div style=\"float: left; width: 50%;\">\n",
    "<h1>Coding as a Service: <br>\n",
    "Librería pypsdier, aprendizajes y metodología.</h1>\n",
    "<h2>Sebastián Flores</h2>\n",
    "<h3>Pycon Argentina 2020</h3>\n",
    "</div>\n",
    "<div style=\"float: right; width: 50%;\">\n",
    "<img src=\"images/pycon_ar.gif\" width=\"400\" align=\"center\">\n",
    "</div>"
   ]
  },
  {
   "cell_type": "markdown",
   "metadata": {
    "slideshow": {
     "slide_type": "slide"
    }
   },
   "source": [
    "##### Coding as a Service: librería pypsdier, aprendizajes y metodología.\n",
    "### Autores\n",
    "\n",
    "<div style=\"float: left; width: 50%;\">\n",
    "<img src=\"images/seba1.gif\" width=\"400\" align=\"center\">\n",
    "<h4>Sebastián Flores</h4>\n",
    "Ingeniero Civil Matemático<br>\n",
    "M.Sc. Mathematical and Computational Engineering<br>\n",
    "M.Sc. Méchanique Numérique<br>\n",
    "u-planner - Chile\n",
    "</div>\n",
    "<img src=\"images/pedro1.jpg\" width=\"400\" align=\"center\">\n",
    "<div style=\"float: right; width: 50%;\">\n",
    "<h4>Pedro Valencia</h4>\n",
    "Bioquímico<br>\n",
    "Ph.D Ingeniería Bioquímica<br>\n",
    "UTFSM - Chile\n",
    "</div>"
   ]
  },
  {
   "cell_type": "markdown",
   "metadata": {
    "slideshow": {
     "slide_type": "slide"
    }
   },
   "source": [
    "##### Coding as a Service: librería pypsdier, aprendizajes y metodología.\n",
    "### Observaciones:\n",
    "\n",
    "* @sebastiandres en twitter y github.\n",
    "* Opiniones y críticas a título personal.\n",
    "* Presentación realizada con la extensión RISE, fácilmente reproducible.\n",
    "* Presentación disponible en https://www.github.com/sebastiandres/charlas"
   ]
  },
  {
   "cell_type": "markdown",
   "metadata": {
    "slideshow": {
     "slide_type": "slide"
    }
   },
   "source": [
    "##### Coding as a Service: librería pypsdier, aprendizajes y metodología\n",
    "### Historia\n",
    "\n",
    "* Origen: Proyecto de colaboración en curso de matemáticas aplicadas."
   ]
  },
  {
   "cell_type": "markdown",
   "metadata": {
    "slideshow": {
     "slide_type": "fragment"
    }
   },
   "source": [
    "* Primeras implementaciones en matlab. \n",
    "    * Problema: Cada nueva reacción química requiere una nueva implementación numérica. \n",
    "    * Repetición de código, mantención tediosa y reiterativa."
   ]
  },
  {
   "cell_type": "markdown",
   "metadata": {
    "slideshow": {
     "slide_type": "fragment"
    }
   },
   "source": [
    "* Desarrollo en python + numpy: pypsdier\n",
    "    * Código genérico. Número arbitrario de sustancias (sustratos o productos) y reacciones definidas .\n",
    "    * Tamaño de particulas definidas por una lista de radios y probabilidad asociada.\n",
    "    * Interface simple e instalación por pypi."
   ]
  },
  {
   "cell_type": "markdown",
   "metadata": {
    "slideshow": {
     "slide_type": "fragment"
    }
   },
   "source": [
    "* Impacto: 9 publicaciones y código abierto (en constante evolución)."
   ]
  },
  {
   "cell_type": "markdown",
   "metadata": {
    "slideshow": {
     "slide_type": "slide"
    }
   },
   "source": [
    "##### Coding as a Service: librería pypsdier, aprendizajes y metodología\n",
    "### Problema\n",
    "\n",
    "* Pedro no conocía Python. Actualmente, nivel en python de usuario básico.\n",
    "* Sebastián tiene aún conocimientos nulos en bioquímica."
   ]
  },
  {
   "cell_type": "markdown",
   "metadata": {
    "slideshow": {
     "slide_type": "fragment"
    }
   },
   "source": [
    "**¿Cómo colaborar de manera eficiente?**"
   ]
  },
  {
   "cell_type": "markdown",
   "metadata": {
    "slideshow": {
     "slide_type": "fragment"
    }
   },
   "source": [
    "El problema más general: \n",
    "\n",
    "**¿Cuál es la manera más sencilla de entregar \"Coding As A Service\"?**"
   ]
  },
  {
   "cell_type": "markdown",
   "metadata": {
    "slideshow": {
     "slide_type": "slide"
    }
   },
   "source": [
    "##### Coding as a Service: librería pypsdier, aprendizajes y metodología\n",
    "### Ejemplo\n",
    "\n",
    "<img src=\"images/abue.png\" width=\"600\" align=\"center\">"
   ]
  },
  {
   "cell_type": "markdown",
   "metadata": {
    "slideshow": {
     "slide_type": "slide"
    }
   },
   "source": [
    "##### Coding as a Service: librería pypsdier, aprendizajes y metodología\n",
    "### Solución para la abuela\n",
    "Abue, vaya a este link y aprete play:\n",
    "\n",
    "\n",
    "https://bit.ly/2IetMRn"
   ]
  },
  {
   "cell_type": "markdown",
   "metadata": {
    "slideshow": {
     "slide_type": "slide"
    }
   },
   "source": [
    "##### Coding as a Service: librería pypsdier, aprendizajes y metodología.\n",
    "\n",
    "### Nuestro problema a resolver\n",
    "\n",
    "<img src=\"images/rate2.gif\" width=\"1200\" align=\"center\">"
   ]
  },
  {
   "cell_type": "markdown",
   "metadata": {
    "slideshow": {
     "slide_type": "notes"
    }
   },
   "source": [
    "¿Porqué es importante el problema?\n",
    "* Catalizador es caro, así puede recuperarse.\n",
    "* Restriccion difusional hace que la evolución temporal sea distinta a si el catalizador estuviera disuelto en el líquido\n",
    "* El problema depende de múltiples variables de manera simultánea."
   ]
  },
  {
   "cell_type": "markdown",
   "metadata": {
    "slideshow": {
     "slide_type": "slide"
    }
   },
   "source": [
    "##### El Problema Actual\n",
    "\n",
    "El problema anterior se generalizó considerando partículas de distinto radio. El problema es obtener $S_b(t)$ y $S(t,r,R_i)$, para $t>0$, $0<r<R_i$. \n",
    "\n",
    "$$\n",
    "   \\frac{\\partial S}{\\partial t}(t,r,R_i) = D_S \\left(\\frac{\\partial^2 S}{\\partial r^2}(t,r,R_i) \n",
    "   + \\frac{2}{r}\\frac{\\partial S}{\\partial r}(t,r,R_i)\\right) - V_e\\left(S, r, t \\right)\n",
    "$$\n",
    "\n",
    "Condición de borde en el centro de las partículas:\n",
    "\n",
    "\\begin{align}\n",
    "   \\frac{\\partial S}{\\partial r}(t, 0, R_i) = 0 \\textrm{ para } t > 0\n",
    "\\end{align}\n",
    "\n",
    "Condiciones de borde en la superficie de la partícula:\n",
    "\n",
    "\\begin{align}\n",
    "S_b(t)  = S(t, R_i,R_i) \\textrm{ para } t > 0\n",
    "\\end{align}\n",
    "\n",
    "\\begin{align}\n",
    "\\frac{d S_b}{d t}(t)  \n",
    "   &= - 3 D_S \\frac{V_c}{V_R E \\left[ R^3 \\right] } E \\left[ R^2 \\left. \\frac{\\partial S}{\\partial r} \\right|_{r=R} \\right] \\textrm{ para } t > 0\n",
    "\\end{align}\n",
    "\n",
    "Con la condición inicial\n",
    "\n",
    "\\begin{align}\n",
    "S_b(0) &= S_0 \\\\\n",
    "S(0,r, R_i) &= 0 \\textrm{ para } 0 \\leq r < R_i\n",
    "\\end{align}"
   ]
  },
  {
   "cell_type": "markdown",
   "metadata": {
    "slideshow": {
     "slide_type": "slide"
    }
   },
   "source": [
    "##### Coding as a Service: librería pypsdier, aprendizajes y metodología.\n",
    "### Los Desafíos\n",
    "\n",
    "Desafíos técnicos:\n",
    "\n",
    "* ¿Cómo discretizar las ecuaciones?\n",
    "* ¿Cómo realizar la implementación numérica?\n",
    "* ¿Cómo resolver para un número arbitrario de concentraciones, radios y funciones de reacción?"
   ]
  },
  {
   "cell_type": "markdown",
   "metadata": {
    "slideshow": {
     "slide_type": "fragment"
    }
   },
   "source": [
    "Esta es la parte tiene solución directa y conocida:\n",
    "* Discretizar ecuaciones utilizando diferencias finitas para el tiempo ($\\Delta t$) y espacio ($\\Delta R_i$).\n",
    "* Asegurar estabilidad numérica.\n",
    "* Implementación con python + numpy + matplotlib + otros."
   ]
  },
  {
   "cell_type": "markdown",
   "metadata": {
    "slideshow": {
     "slide_type": "slide"
    }
   },
   "source": [
    "##### Coding as a Service: librería pypsdier, aprendizajes y metodología.\n",
    "### Los Desafíos\n",
    "\n",
    "Desafíos organizacionales:\n",
    "\n",
    "* ¿Cómo colaborar?\n",
    "* ¿Cómo distribuir el código?\n",
    "* ¿Cómo hacer fácil el uso?\n",
    "* ¿Cómo hacer reproducible las simulaciones?\n",
    "* ¿Cómo documentar el código?\n",
    "* ¿Cómo almacenar los resultados de las simulaciones?"
   ]
  },
  {
   "cell_type": "markdown",
   "metadata": {
    "slideshow": {
     "slide_type": "fragment"
    }
   },
   "source": [
    "Esta parte no tiene una solución directa:\n",
    "* No había mucha información al respecto.\n",
    "* Cada equipo lo resuelve a su manera.\n",
    "* Existen muchas herramientas que nos simplifican la vida."
   ]
  },
  {
   "cell_type": "markdown",
   "metadata": {
    "slideshow": {
     "slide_type": "slide"
    }
   },
   "source": [
    "##### Coding as a Service: librería pypsdier, aprendizajes y metodología\n",
    "### Framework: ¿Qué necesitábamos?\n",
    "\n",
    "(1) Permitir una buena **documentación** para desarrolladores y usuarios.\n",
    "\n",
    "(2) Propocionar **instalación** y **versionamiento** de python, jupyter y librerías necesarias.\n",
    "\n",
    "(3) Facilitar **desarrollo incremental** considerando devs y users.\n",
    "\n",
    "(4)  Exponer una **interface simple** al usuario final, permitiendo ocultar una implementación numérica compleja y con una curva de aprendizaje apropiado.\n",
    "\n",
    "(5) Permitir **reproducir**, **almacenar** y **compartir** resultados de simulación.\n",
    "\n",
    "(6) Permitir el uso de recursos computacionales en la **nube**.\n"
   ]
  },
  {
   "cell_type": "markdown",
   "metadata": {
    "slideshow": {
     "slide_type": "slide"
    }
   },
   "source": [
    "##### Coding as a Service: librería pypsdier, aprendizajes y metodología\n",
    "#### Necesidades\n",
    "\n",
    "(1) Permitir una buena **documentación** para desarrolladores y usuarios.\n",
    "\n",
    "(2) Propocionar **instalación** y **versionamiento** de python, jupyter y librerías necesarias."
   ]
  },
  {
   "cell_type": "markdown",
   "metadata": {
    "slideshow": {
     "slide_type": "fragment"
    }
   },
   "source": [
    "### Solución\n",
    "* El versionamiento resulta natural con git y cualquier repositorio en la nube. \n",
    "* readthedocs permite documentar tanto la parte técnica (código) como la utilización y ejemplos.  "
   ]
  },
  {
   "cell_type": "markdown",
   "metadata": {
    "slideshow": {
     "slide_type": "slide"
    }
   },
   "source": [
    "##### Coding as a Service: librería pypsdier, aprendizajes y metodología\n",
    "#### Necesidades\n",
    "\n",
    "(2) Propocionar **instalación** y **versionamiento** de python, jupyter y librerías necesarias.\n",
    "\n",
    "(3) Facilitar **desarrollo incremental** considerando devs y users."
   ]
  },
  {
   "cell_type": "markdown",
   "metadata": {
    "slideshow": {
     "slide_type": "fragment"
    }
   },
   "source": [
    "### Solución\n",
    "* Estructura de proyecto de python, para instalar con pypi o desde github."
   ]
  },
  {
   "cell_type": "markdown",
   "metadata": {
    "slideshow": {
     "slide_type": "slide"
    }
   },
   "source": [
    "##### Coding as a Service: librería pypsdier, aprendizajes y metodología\n",
    "#### Necesidades\n",
    "\n",
    "(4) Exponer una **interface simple** al usuario final, permitiendo ocultar una implementación numérica compleja y con una curva de aprendizaje apropiado.\n",
    "\n",
    "(5) Permitir **reproducir**, **almacenar** y **compartir** resultados de simulación."
   ]
  },
  {
   "cell_type": "markdown",
   "metadata": {
    "slideshow": {
     "slide_type": "fragment"
    }
   },
   "source": [
    "### Solución\n",
    "* Esquema"
   ]
  },
  {
   "cell_type": "markdown",
   "metadata": {
    "slideshow": {
     "slide_type": "slide"
    }
   },
   "source": [
    "##### Coding as a Service: librería pypsdier, aprendizajes y metodología\n",
    "### Solución\n",
    "\n",
    "(5) Permitir **reproducir**, **almacenar** y **compartir** resultados de simulación.\n",
    "\n",
    "(6) Permitir el uso de recursos computacionales en la **nube**."
   ]
  },
  {
   "cell_type": "markdown",
   "metadata": {
    "slideshow": {
     "slide_type": "fragment"
    }
   },
   "source": [
    "### Solución\n",
    "* Google Colab, mybinder, u otros."
   ]
  },
  {
   "cell_type": "markdown",
   "metadata": {
    "slideshow": {
     "slide_type": "slide"
    }
   },
   "source": [
    "##### Coding as a Service: librería pypsdier, aprendizajes y metodología\n",
    "### Ejemplo de pypsdier\n",
    "\n",
    "Primero que nada, instalaremos la librería:"
   ]
  },
  {
   "cell_type": "code",
   "execution_count": 12,
   "metadata": {},
   "outputs": [
    {
     "name": "stdout",
     "output_type": "stream",
     "text": [
      "Collecting git+https://github.com/sebastiandres/pypsdier.git\n",
      "  Cloning https://github.com/sebastiandres/pypsdier.git to /private/var/folders/68/v1ds0ld152q_wk4sbcns3ckw0000gn/T/pip-req-build-0njbgjud\n",
      "  Running command git clone -q https://github.com/sebastiandres/pypsdier.git /private/var/folders/68/v1ds0ld152q_wk4sbcns3ckw0000gn/T/pip-req-build-0njbgjud\n",
      "Building wheels for collected packages: pypsdier\n",
      "  Building wheel for pypsdier (setup.py) ... \u001b[?25ldone\n",
      "\u001b[?25h  Created wheel for pypsdier: filename=pypsdier-1.0.1-cp37-none-any.whl size=13987 sha256=38819e88dce5695e9b6722ac0362b95bee044bd14a59a2cd93bb16296d22ae62\n",
      "  Stored in directory: /private/var/folders/68/v1ds0ld152q_wk4sbcns3ckw0000gn/T/pip-ephem-wheel-cache-neplj_qh/wheels/57/71/0f/2f6f43ab73e6371b622a1e181130163a445c394d19b74a80d1\n",
      "Successfully built pypsdier\n",
      "Installing collected packages: pypsdier\n",
      "  Found existing installation: pypsdier 1.0.1\n",
      "    Uninstalling pypsdier-1.0.1:\n",
      "      Successfully uninstalled pypsdier-1.0.1\n",
      "Successfully installed pypsdier-1.0.1\n"
     ]
    }
   ],
   "source": [
    "#!pip install -i https://test.pypi.org/simple/ Pypsdier\n",
    "!pip install git+https://github.com/sebastiandres/pypsdier.git --upgrade"
   ]
  },
  {
   "cell_type": "markdown",
   "metadata": {
    "slideshow": {
     "slide_type": "slide"
    }
   },
   "source": [
    "##### Coding as a Service: librería pypsdier, aprendizajes y metodología\n",
    "### Ejemplo\n",
    "\n",
    "Consideremos un ejemplo de una reacción simple. Definamos los inputs de la simulación:"
   ]
  },
  {
   "cell_type": "code",
   "execution_count": 58,
   "metadata": {
    "slideshow": {
     "slide_type": "-"
    }
   },
   "outputs": [],
   "source": [
    "def MichaelisMenten(S, E0, k, K):\n",
    "  \"\"\"Definition for Michaelis Menten reaction with inputs E0 [mM], k [1/s] and K [mM]\"\"\"\n",
    "  return (-k*E0*S[0]/(K+S[0]), )\n",
    "\n",
    "inputs = {}\n",
    "inputs[\"SimulationTime\"] = 2*60. # [s]\n",
    "inputs[\"SavingTimeStep\"] = 1. # [s]\n",
    "inputs[\"CatalystVolume\"] = 0.5 # [mL]\n",
    "inputs[\"BulkVolume\"]  = 100.0  # [mL]\n",
    "inputs[\"Names\"] = ('Substrat',)  # legend for the xls, reports and plots\n",
    "inputs[\"InitialConcentrations\"] = (1.3,)   # [mM]\n",
    "inputs[\"EffectiveDiffusionCoefficients\"] = (5.3E-10,)  # [m2/s]\n",
    "inputs[\"CatalystParticleRadius\"] = [40.0E-6, 60.0E-6, 80.0E-6] # [m]\n",
    "inputs[\"CatalystParticleRadiusFrequency\"] = [0.3, 0.5, 0.2] # []\n",
    "inputs[\"ReactionFunction\"] = MichaelisMenten # function \n",
    "inputs[\"ReactionParameters\"] = (41 , 0.13)   # [1/s], [mM/s], parameters\n",
    "inputs[\"CatalystEnzymeConcentration\"] = 0.35 # [mM]"
   ]
  },
  {
   "cell_type": "markdown",
   "metadata": {
    "slideshow": {
     "slide_type": "slide"
    }
   },
   "source": [
    "##### Coding as a Service\n",
    "### Ejemplo\n",
    "Definamos ahora opciones de gráficos para la simulación:"
   ]
  },
  {
   "cell_type": "code",
   "execution_count": 66,
   "metadata": {
    "slideshow": {
     "slide_type": "-"
    }
   },
   "outputs": [],
   "source": [
    "plot_options = {}\n",
    "plot_options[\"label_x\"] = \"Tiempo de reacción [s]\"\n",
    "plot_options[\"label_y\"] = \"Concentración [mM]\"\n",
    "plot_options[\"title\"] = \"Simulación de Michaelis Menten para la PyconAr\"\n",
    "plot_options[\"data_x\"] = [0.0, 30, 60, 90, 120]\n",
    "plot_options[\"data_y\"] = [1.3, 0.65, 0.25, 0.10, 0.0]\n",
    "plot_options[\"data_kwargs\"] = {'label':'exp', 'color':'red', \n",
    "                         'marker':'s', 'markersize':6, \n",
    "                         'linestyle':'none','linewidth':2}\n",
    "plot_options[\"sim_kwargs\"] = {'label':'sim', 'color':'black', \n",
    "                         'marker':'o', 'markersize':6, \n",
    "                         'linestyle':'dashed','linewidth':2}"
   ]
  },
  {
   "cell_type": "markdown",
   "metadata": {
    "slideshow": {
     "slide_type": "slide"
    }
   },
   "source": [
    "##### Coding as a Service: librería pypsdier, aprendizajes y metodología\n",
    "### Ejemplo pypsdier\n",
    "Todo está listo para realizar una simulación (muy sencilla):"
   ]
  },
  {
   "cell_type": "code",
   "execution_count": 67,
   "metadata": {
    "slideshow": {
     "slide_type": "-"
    }
   },
   "outputs": [],
   "source": [
    "# import pypsdier\n",
    "SIM1 = pypsdier.SimulationInterface()\n",
    "SIM1.new(inputs, plot_options)"
   ]
  },
  {
   "cell_type": "code",
   "execution_count": 68,
   "metadata": {},
   "outputs": [
    {
     "name": "stdout",
     "output_type": "stream",
     "text": [
      "ODE: Simulated the equivalent ode equation.\n"
     ]
    }
   ],
   "source": [
    "SIM1.simulate(\"ode\")"
   ]
  },
  {
   "cell_type": "code",
   "execution_count": 69,
   "metadata": {},
   "outputs": [
    {
     "name": "stdout",
     "output_type": "stream",
     "text": [
      "Using a constant Enzyme Radial Distribution\n",
      "PDE: Simulated 120 secs out of 120 secs (Remaining time 0 mins) \n"
     ]
    }
   ],
   "source": [
    "SIM1.simulate(\"pde\")"
   ]
  },
  {
   "cell_type": "code",
   "execution_count": 70,
   "metadata": {},
   "outputs": [
    {
     "name": "stdout",
     "output_type": "stream",
     "text": [
      "Saving simulation into file  example_0.rde\n"
     ]
    }
   ],
   "source": [
    "SIM1.save(\"example_0.rde\")"
   ]
  },
  {
   "cell_type": "markdown",
   "metadata": {
    "slideshow": {
     "slide_type": "slide"
    }
   },
   "source": [
    "##### Coding as a Service: librería pypsdier, aprendizajes y metodología\n",
    "### Ejemplo pypsdier\n",
    "Podemos definir funciones específicas para exportar en formato excel o graficar"
   ]
  },
  {
   "cell_type": "code",
   "execution_count": 71,
   "metadata": {},
   "outputs": [],
   "source": [
    "SIM1.export_xls(\"example_0.xls\")"
   ]
  },
  {
   "cell_type": "code",
   "execution_count": 72,
   "metadata": {
    "scrolled": true,
    "slideshow": {
     "slide_type": "-"
    }
   },
   "outputs": [
    {
     "data": {
      "image/png": "[encoded data removed]",
      "text/plain": [
       "<Figure size 720x576 with 1 Axes>"
      ]
     },
     "metadata": {
      "needs_background": "light"
     },
     "output_type": "display_data"
    }
   ],
   "source": [
    "%matplotlib inline\n",
    "SIM1.plot(plot_type=\"pde\")"
   ]
  },
  {
   "cell_type": "markdown",
   "metadata": {
    "slideshow": {
     "slide_type": "slide"
    }
   },
   "source": [
    "##### Coding as a Service: librería pypsdier, aprendizajes y metodología\n",
    "### Ejemplo pypsdier\n",
    "\n",
    "¿Y la reproducibilidad?\n",
    "\n",
    "Una simulación realizada almacena todas las características con las cuales se generó. "
   ]
  },
  {
   "cell_type": "code",
   "execution_count": 57,
   "metadata": {},
   "outputs": [
    {
     "name": "stdout",
     "output_type": "stream",
     "text": [
      "System configuration:\n",
      "    environment: python\n",
      "    python version: 3.7.4\n",
      "    GenericSimulationLibrary version: 1.0.1\n",
      "    numpy version: 1.17.2\n",
      "    scipy version: 1.5.2\n",
      "    xlwt version: 1.3.0\n",
      "    matplotlib version: 3.1.1\n",
      "Inputs:\n",
      "    SimulationTime 120.0\n",
      "    SavingTimeStep 1.0\n",
      "    CatalystVolume 0.5\n",
      "    BulkVolume 100.0\n",
      "    Names ('Substrat',)\n",
      "    InitialConcentrations (1.3,)\n",
      "    EffectiveDiffusionCoefficients (5.3e-10,)\n",
      "    CatalystParticleRadius [4e-05, 6e-05, 8e-05]\n",
      "    CatalystParticleRadiusFrequency [0.3, 0.5, 0.2]\n",
      "    ReactionFunction <function MichaelisMenten at 0x1303ba9e0>\n",
      "    ReactionParameters (41, 0.13)\n",
      "    CatalystEnzymeConcentration 0.35\n",
      "plot_options:\n",
      "    label_x Tiempo de reacción [s]\n",
      "    label_y Concentración [mM]\n",
      "    title Simulación de Michaelis Menten para la PyconAr\n",
      "    data_x [0.0, 30, 60, 90, 120]\n",
      "    data_y [1.3, 0.4, 0.1, 0.0, 0.0]\n",
      "    data_kwargs {'label': 'exp', 'color': 'red', 'marker': 's', 'markersize': 6, 'linestyle': 'none', 'linewidth': 2}\n",
      "    sim_kwargs {'label': 'sim', 'color': 'black', 'marker': 'o', 'markersize': 6, 'linestyle': 'dashed', 'linewidth': 2}\n"
     ]
    }
   ],
   "source": [
    "import pypsdier\n",
    "SIM2 = pypsdier.SimulationInterface()\n",
    "SIM2.load(\"example_0.rde\") # load instead of new\n",
    "SIM2.status()"
   ]
  },
  {
   "cell_type": "markdown",
   "metadata": {
    "slideshow": {
     "slide_type": "slide"
    }
   },
   "source": [
    "##### Coding as a Service: librería pypsdier, aprendizajes y metodología\n",
    "### Ejemplo pypsdier\n",
    "\n",
    "Podemos cargar una simulación realizada previamente y analizarla (sin necesidad de volver a realizar la simulación)."
   ]
  },
  {
   "cell_type": "code",
   "execution_count": null,
   "metadata": {},
   "outputs": [],
   "source": [
    "SIM2.export_xls(\"example_0.xls\")"
   ]
  },
  {
   "cell_type": "code",
   "execution_count": 48,
   "metadata": {},
   "outputs": [
    {
     "data": {
      "image/png": "[encoded data removed]",
      "text/plain": [
       "<Figure size 720x576 with 1 Axes>"
      ]
     },
     "metadata": {
      "needs_background": "light"
     },
     "output_type": "display_data"
    }
   ],
   "source": [
    "SIM2.plot(plot_type=\"pde\")"
   ]
  },
  {
   "cell_type": "markdown",
   "metadata": {
    "slideshow": {
     "slide_type": "slide"
    }
   },
   "source": [
    "##### Coding as a Service: librería pypsdier, aprendizajes y metodología\n",
    "### Framework Propuesto\n",
    "\n",
    "La librería pypsdier es específica al problema de reacción-difusión para reactores de enzima inmobilizada, con flexibilidad para diferentes modelos de reacción y condiciones de operación.\n",
    "\n",
    "Sin embargo, se propone un framework de trabajo con las funcionalidades mínimas que puede ser personalizado a voluntad: **GenericSimulationLibrary**\n",
    "\n",
    "Para ello basta hacer un fork del repositorio \n",
    "https://github.com/sebastiandres/GenericSimulationLibrary:\n",
    "\n",
    "* En `simulation_interface.py` actualizar los métodos: new, load, simulate, save, plot, export. \n",
    "* En `docs/source/*.rst` actualizar la documentación."
   ]
  },
  {
   "cell_type": "markdown",
   "metadata": {
    "slideshow": {
     "slide_type": "slide"
    }
   },
   "source": [
    "##### Coding as a Service: librería pypsdier, aprendizajes y metodología\n",
    "### Conclusión\n",
    "\n",
    "* Framework para `Coding as a Service`: https://github.com/sebastiandres/GenericSimulationLibrary Framework propuesto\n",
    "* Herramientas actuales hacen sencilla la colaboración interdisciplinaria.\n",
    "* El framework propuesto simplifica el desarrollo y la reproducibilidad del código.\n",
    "* Todas las \"grandes liberías usan una forma similar, pero no es necesario ser un gran proyecto para copiar una buena estructura de trabajo.\n",
    "* Librería `pypsdier`: https://github.com/sebastiandres/pypsdier Implementación específica\n",
    "* Python + numpy permite una implementación numérica flexible y robusta."
   ]
  },
  {
   "cell_type": "markdown",
   "metadata": {
    "slideshow": {
     "slide_type": "slide"
    }
   },
   "source": [
    "<div style=\"float: left; width: 70%;\">\n",
    "<h1>Coding as a Service: <br>\n",
    "Librería pypsdier, aprendizajes y metodología.</h1>\n",
    "<h2>Sebastián Flores</h2>\n",
    "<h3>Pycon Argentina 2020</h3>\n",
    "</div>\n",
    "<div style=\"float: right; width: 30%;\">\n",
    "<br>\n",
    "<br>\n",
    "<br>\n",
    "<br>\n",
    "<br>\n",
    "Encuesta: <div style='font-size:125%'>https://bit.ly/2ZBOPTT</div>\n",
    "    \n",
    "IMAGEN CODIGO QR\n",
    "</div>\n",
    "\n"
   ]
  }
 ],
 "metadata": {
  "celltoolbar": "Slideshow",
  "kernelspec": {
   "display_name": "Python 3",
   "language": "python",
   "name": "python3"
  },
  "language_info": {
   "codemirror_mode": {
    "name": "ipython",
    "version": 3
   },
   "file_extension": ".py",
   "mimetype": "text/x-python",
   "name": "python",
   "nbconvert_exporter": "python",
   "pygments_lexer": "ipython3",
   "version": "3.7.4"
  }
 },
 "nbformat": 4,
 "nbformat_minor": 4
}
